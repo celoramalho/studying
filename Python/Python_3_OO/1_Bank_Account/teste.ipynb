{
 "cells": [
  {
   "cell_type": "code",
   "execution_count": 1,
   "metadata": {},
   "outputs": [],
   "source": [
    "from conta import Conta\n",
    "from cliente import Cliente"
   ]
  },
  {
   "cell_type": "code",
   "execution_count": 2,
   "metadata": {},
   "outputs": [
    {
     "name": "stdout",
     "output_type": "stream",
     "text": [
      "Construindo objeto... <conta.Conta object at 0x72131424eed0>\n"
     ]
    }
   ],
   "source": [
    "conta_celo = Conta(123, \"Celo\", 55.0, 1000.0)\n"
   ]
  },
  {
   "cell_type": "code",
   "execution_count": 3,
   "metadata": {},
   "outputs": [
    {
     "name": "stdout",
     "output_type": "stream",
     "text": [
      "Saldo 55.0 do titular Celo\n"
     ]
    }
   ],
   "source": [
    "conta_celo.extrato()"
   ]
  },
  {
   "cell_type": "code",
   "execution_count": 4,
   "metadata": {},
   "outputs": [
    {
     "name": "stdout",
     "output_type": "stream",
     "text": [
      "Saldo 155.0 do titular Celo\n"
     ]
    }
   ],
   "source": [
    "conta_celo.deposita(100)\n",
    "conta_celo.extrato()"
   ]
  },
  {
   "cell_type": "code",
   "execution_count": 5,
   "metadata": {},
   "outputs": [
    {
     "name": "stdout",
     "output_type": "stream",
     "text": [
      "Saldo 115.0 do titular Celo\n"
     ]
    }
   ],
   "source": [
    "conta_celo.saca(40)\n",
    "conta_celo.extrato()"
   ]
  },
  {
   "cell_type": "code",
   "execution_count": 6,
   "metadata": {},
   "outputs": [
    {
     "name": "stdout",
     "output_type": "stream",
     "text": [
      "Construindo objeto... <conta.Conta object at 0x72131407d9a0>\n"
     ]
    }
   ],
   "source": [
    "conta_chico = Conta(223, \"Chico\", 80.0, 12000.0)"
   ]
  },
  {
   "cell_type": "code",
   "execution_count": 7,
   "metadata": {},
   "outputs": [
    {
     "name": "stdout",
     "output_type": "stream",
     "text": [
      "70 transferido para <conta.Conta object at 0x72131424eed0>\n",
      "Saldo 185.0 do titular Celo\n"
     ]
    }
   ],
   "source": [
    "conta_chico.transfere(conta_celo, 70)\n",
    "conta_celo.extrato()"
   ]
  },
  {
   "cell_type": "code",
   "execution_count": 8,
   "metadata": {},
   "outputs": [
    {
     "data": {
      "text/plain": [
       "1000.0"
      ]
     },
     "execution_count": 8,
     "metadata": {},
     "output_type": "execute_result"
    }
   ],
   "source": [
    "conta_celo.get_limite()"
   ]
  },
  {
   "cell_type": "code",
   "execution_count": 9,
   "metadata": {},
   "outputs": [
    {
     "data": {
      "text/plain": [
       "185.0"
      ]
     },
     "execution_count": 9,
     "metadata": {},
     "output_type": "execute_result"
    }
   ],
   "source": [
    "conta_celo.get_saldo()"
   ]
  },
  {
   "cell_type": "code",
   "execution_count": 10,
   "metadata": {},
   "outputs": [
    {
     "data": {
      "text/plain": [
       "'Celo'"
      ]
     },
     "execution_count": 10,
     "metadata": {},
     "output_type": "execute_result"
    }
   ],
   "source": [
    "conta_celo.get_titular()"
   ]
  },
  {
   "cell_type": "code",
   "execution_count": 11,
   "metadata": {},
   "outputs": [],
   "source": [
    "cliente_1 = Cliente(\"Celo\", 55)"
   ]
  },
  {
   "cell_type": "code",
   "execution_count": 15,
   "metadata": {},
   "outputs": [
    {
     "name": "stdout",
     "output_type": "stream",
     "text": [
      "Chamando @property nome()...\n"
     ]
    },
    {
     "data": {
      "text/plain": [
       "'Celo'"
      ]
     },
     "execution_count": 15,
     "metadata": {},
     "output_type": "execute_result"
    }
   ],
   "source": [
    "cliente_1.nome"
   ]
  },
  {
   "cell_type": "code",
   "execution_count": null,
   "metadata": {},
   "outputs": [
    {
     "name": "stdout",
     "output_type": "stream",
     "text": [
      "Chamando setter nome()...\n"
     ]
    }
   ],
   "source": [
    "cliente_1.nome = \"Chico\" # \"Chamando setter nome()...\""
   ]
  },
  {
   "cell_type": "code",
   "execution_count": null,
   "metadata": {},
   "outputs": [
    {
     "name": "stdout",
     "output_type": "stream",
     "text": [
      "Chamando @property nome()...\n"
     ]
    },
    {
     "data": {
      "text/plain": [
       "'Celo'"
      ]
     },
     "execution_count": 14,
     "metadata": {},
     "output_type": "execute_result"
    }
   ],
   "source": [
    "cliente_1.nome # \"Chamando @property nome()...\" -> \"João\""
   ]
  },
  {
   "cell_type": "code",
   "execution_count": 18,
   "metadata": {},
   "outputs": [
    {
     "name": "stdout",
     "output_type": "stream",
     "text": [
      "Chamando @property nome()...\n",
      "Celo\n"
     ]
    }
   ],
   "source": [
    "# Usando o getter\n",
    "print(cliente_1.nome)  # \"Chamando @property nome()...\" -> \"João\""
   ]
  }
 ],
 "metadata": {
  "kernelspec": {
   "display_name": "Python 3",
   "language": "python",
   "name": "python3"
  },
  "language_info": {
   "codemirror_mode": {
    "name": "ipython",
    "version": 3
   },
   "file_extension": ".py",
   "mimetype": "text/x-python",
   "name": "python",
   "nbconvert_exporter": "python",
   "pygments_lexer": "ipython3",
   "version": "3.12.3"
  }
 },
 "nbformat": 4,
 "nbformat_minor": 2
}

{
 "cells": [
  {
   "cell_type": "code",
   "execution_count": 161,
   "metadata": {},
   "outputs": [
    {
     "name": "stdout",
     "output_type": "stream",
     "text": [
      "The autoreload extension is already loaded. To reload it, use:\n",
      "  %reload_ext autoreload\n"
     ]
    }
   ],
   "source": [
    "import os, sys, warnings\n",
    "import time\n",
    "import usuario\n",
    "from pathlib import Path\n",
    "warnings.filterwarnings('ignore')\n",
    "%load_ext autoreload\n",
    "%autoreload 2\n",
    "#sys.path.insert(0, os.path.abspath(os.path.join(Path.home(), \"rpa_libs\")))\n",
    "\n",
    "from selenium.webdriver.common.by import By \n",
    "from selenium.webdriver.common.keys import Keys\n",
    "\n",
    "# Nossas libs\n",
    "#import app\n",
    "#from plugins.selenium.selenium import Selenium"
   ]
  },
  {
   "cell_type": "code",
   "execution_count": 162,
   "metadata": {},
   "outputs": [],
   "source": [
    "from selenium import webdriver\n",
    "from webdriver_manager.chrome import ChromeDriverManager\n",
    "from selenium.webdriver.chrome.service import Service\n",
    "\n",
    "#from tbselenium.tbdriver import TorBrowserDriver\n",
    "#with TorBrowserDriver(\"/home/griffo/Downloads/tor-browser/\") as driver:\n",
    "#driver = TorBrowserDriver(\"/home/griffo/Downloads/tor-browser/\")\n",
    "#driver.get('https://www.fitenergia.com.br/')"
   ]
  },
  {
   "cell_type": "code",
   "execution_count": 163,
   "metadata": {},
   "outputs": [],
   "source": [
    "# Inicializa o driver do navegador (Chrome no exemplo)\n",
    "#driver = webdriver.Chrome(executable_path='/caminho/para/chromedriver')\n",
    "driver_path = ChromeDriverManager().install()"
   ]
  },
  {
   "cell_type": "code",
   "execution_count": 164,
   "metadata": {},
   "outputs": [],
   "source": [
    "url = 'https://qa.fitenergia.com.br/'"
   ]
  },
  {
   "cell_type": "code",
   "execution_count": 165,
   "metadata": {},
   "outputs": [],
   "source": [
    "botao_ja_sou_cliente = '/html/body/div[2]/header/nav/ul/li[4]/a'\n",
    "botao_menu_vertical_responsivo = '/html/body/div[2]/button[1]'\n",
    "botao_ja_sou_cliente_responsivo = '//*[@id=\"menu\"]/div/nav/ul/li[4]/a'\n",
    "campo_nome = '//*[@id=\"lead_nome\"]'\n",
    "campo_email = '//*[@id=\"lead_email\"]'\n",
    "campo_numero = '//*[@id=\"lead_telefone\"]'"
   ]
  },
  {
   "cell_type": "code",
   "execution_count": 166,
   "metadata": {},
   "outputs": [],
   "source": [
    "private_data_file = open(\"private_data.txt\", \"r\")\n",
    "user = usuario.User(\"private_data.txt\")"
   ]
  },
  {
   "cell_type": "code",
   "execution_count": 167,
   "metadata": {},
   "outputs": [],
   "source": [
    "#print(driver_path)"
   ]
  },
  {
   "cell_type": "code",
   "execution_count": 168,
   "metadata": {},
   "outputs": [],
   "source": [
    "#driver = webdriver.Chrome(ChromeDriverManager().install()) erro\n",
    "#driver = webdriver.Chrome(service=Service(ChromeDriverManager().install()))\n",
    "\n",
    "# Correct initialization of Chrome WebDriver using Service\n"
   ]
  },
  {
   "cell_type": "code",
   "execution_count": 169,
   "metadata": {},
   "outputs": [],
   "source": [
    "service = Service(ChromeDriverManager().install())\n",
    "driver = webdriver.Chrome(service=service)"
   ]
  },
  {
   "cell_type": "code",
   "execution_count": 170,
   "metadata": {},
   "outputs": [],
   "source": [
    "#Abre o site\n",
    "def open_site(url):\n",
    "    driver.get(url)\n",
    "    time.sleep(3)"
   ]
  },
  {
   "cell_type": "code",
   "execution_count": 171,
   "metadata": {},
   "outputs": [],
   "source": [
    "def click_already_a_client_button():\n",
    "    current_windows_width = driver.get_window_size().get('width')\n",
    "    if current_windows_width >= 1340:\n",
    "        # Tenta clicar no botão \"Já Sou Cliente\"\n",
    "        driver.find_element(By.XPATH, botao_ja_sou_cliente).click() #1340\n",
    "\n",
    "    else:\n",
    "        #Se não achar scrolla a página pra cima e tenta clicar no botão sanduiche para abrir o menu lateral\n",
    "        driver.execute_script(\"window.scrollTo(0, 0)\")\n",
    "        driver.find_element(By.XPATH, botao_menu_vertical_responsivo).click()\n",
    "        time.sleep(1)\n",
    "        driver.find_element(By.XPATH, botao_ja_sou_cliente_responsivo).click()"
   ]
  },
  {
   "cell_type": "code",
   "execution_count": 172,
   "metadata": {},
   "outputs": [],
   "source": [
    "def try_to_sing_in(user):\n",
    "    #Insert credentials and try to login\n",
    "\n",
    "    driver.find_element(By.XPATH, '//*[@id=\"user_email\"]').send_keys(user.mail + Keys.ENTER)\n",
    "\n",
    "    driver.find_element(By.XPATH, '//*[@id=\"user_password\"]').send_keys(user.password + Keys.ENTER)\n",
    "    time.sleep(3)"
   ]
  },
  {
   "cell_type": "code",
   "execution_count": 173,
   "metadata": {},
   "outputs": [],
   "source": [
    "#\n",
    "def sing_up(user):\n",
    "    #Clica em novo usuário\n",
    "    driver.find_element(By.XPATH, '//*[@id=\"new_user\"]/div/div[1]/a').click()\n",
    "\n",
    "    #Minas Gerais\n",
    "    #driver.find_element(By.XPATH, '/html/body/header/section/div[2]/div[1]/div/div[1]/a').click()\n",
    "\n",
    "    #Outros Estados\n",
    "    #driver.find_element(By.XPATH, '/html/body/header/section/div[2]/div[1]/div/div[3]/a').click()\n",
    "\n",
    "\n",
    "    driver.find_element(By.XPATH, campo_nome).send_keys(user.name)\n",
    "    driver.find_element(By.XPATH, campo_email).send_keys(user.mail)\n",
    "    driver.find_element(By.XPATH, campo_numero).send_keys(user.phone)\n",
    "    driver.find_element(By.XPATH, '//*[@id=\"range\"]').click()\n",
    "    driver.find_element(By.XPATH, '//*[@id=\"santander-form\"]/div[3]/div[5]/input').click()"
   ]
  },
  {
   "cell_type": "code",
   "execution_count": 174,
   "metadata": {},
   "outputs": [],
   "source": [
    "def test_instagram_top_button():\n",
    "\n",
    "    #Botão Instagram\n",
    "    try:\n",
    "        driver.find_element(By.XPATH, '/html/body/div[2]/div[1]/p/a').click()\n",
    "\n",
    "        redirecionou_instagram = driver.current_url == 'https://www.instagram.com/fitenergiaoficial/'\n",
    "\n",
    "        if not redirecionou_instagram:\n",
    "            pass\n",
    "            #Erro: O botão não direcionou para o instagram.\n",
    "\n",
    "    except:\n",
    "        #Erro: Não achou o botão do instagram\n",
    "        pass"
   ]
  },
  {
   "cell_type": "code",
   "execution_count": 177,
   "metadata": {},
   "outputs": [
    {
     "ename": "ElementClickInterceptedException",
     "evalue": "Message: element click intercepted: Element <input type=\"submit\" name=\"commit\" value=\"Economize já\" class=\"submit-button-s uppercase w-[168px] h-[45px] flex items-center justify-center text-redSant text-center text-[14px] font-extrabold cursor-pointer leading-[17.07px] rounded-lg tracking-[0.0825em] border-2 border-redSant\" data-disable-with=\"Economize já\"> is not clickable at point (430, 763). Other element would receive the click: <button class=\"cookies-btn text-white accept text-sm text-center leading-[17px] font-bold tracking-[0.15em] bg-redSant px-[10px] lg:px-[30px] py-4 lg:py-5 rounded-lg flex items-center justify-center transition ease-in duration-150 hover:brightness-95 uppercase\">...</button>\n  (Session info: chrome=129.0.6668.70)\nStacktrace:\n#0 0x59b43672e10a <unknown>\n#1 0x59b4364145e0 <unknown>\n#2 0x59b43646a866 <unknown>\n#3 0x59b43646878d <unknown>\n#4 0x59b436466237 <unknown>\n#5 0x59b436465646 <unknown>\n#6 0x59b436458a98 <unknown>\n#7 0x59b436488b22 <unknown>\n#8 0x59b436458478 <unknown>\n#9 0x59b436488cee <unknown>\n#10 0x59b4364a7d7d <unknown>\n#11 0x59b4364888c3 <unknown>\n#12 0x59b4364566b3 <unknown>\n#13 0x59b43645768e <unknown>\n#14 0x59b4366f8b0b <unknown>\n#15 0x59b4366fca91 <unknown>\n#16 0x59b4366e5305 <unknown>\n#17 0x59b4366fd612 <unknown>\n#18 0x59b4366ca46f <unknown>\n#19 0x59b43671d008 <unknown>\n#20 0x59b43671d1d3 <unknown>\n#21 0x59b43672cf5c <unknown>\n#22 0x762ac5e9ca94 <unknown>\n#23 0x762ac5f29c3c <unknown>\n",
     "output_type": "error",
     "traceback": [
      "\u001b[0;31m---------------------------------------------------------------------------\u001b[0m",
      "\u001b[0;31mElementClickInterceptedException\u001b[0m          Traceback (most recent call last)",
      "Cell \u001b[0;32mIn[177], line 12\u001b[0m\n\u001b[1;32m      9\u001b[0m fail_to_login \u001b[38;5;241m=\u001b[39m url_before_login_try \u001b[38;5;241m==\u001b[39m driver\u001b[38;5;241m.\u001b[39mcurrent_url\n\u001b[1;32m     11\u001b[0m \u001b[38;5;28;01mif\u001b[39;00m fail_to_login:\n\u001b[0;32m---> 12\u001b[0m     \u001b[43msing_up\u001b[49m\u001b[43m(\u001b[49m\u001b[43muser\u001b[49m\u001b[43m)\u001b[49m\n",
      "Cell \u001b[0;32mIn[173], line 17\u001b[0m, in \u001b[0;36msing_up\u001b[0;34m(user)\u001b[0m\n\u001b[1;32m     15\u001b[0m driver\u001b[38;5;241m.\u001b[39mfind_element(By\u001b[38;5;241m.\u001b[39mXPATH, campo_numero)\u001b[38;5;241m.\u001b[39msend_keys(user\u001b[38;5;241m.\u001b[39mphone)\n\u001b[1;32m     16\u001b[0m driver\u001b[38;5;241m.\u001b[39mfind_element(By\u001b[38;5;241m.\u001b[39mXPATH, \u001b[38;5;124m'\u001b[39m\u001b[38;5;124m//*[@id=\u001b[39m\u001b[38;5;124m\"\u001b[39m\u001b[38;5;124mrange\u001b[39m\u001b[38;5;124m\"\u001b[39m\u001b[38;5;124m]\u001b[39m\u001b[38;5;124m'\u001b[39m)\u001b[38;5;241m.\u001b[39mclick()\n\u001b[0;32m---> 17\u001b[0m \u001b[43mdriver\u001b[49m\u001b[38;5;241;43m.\u001b[39;49m\u001b[43mfind_element\u001b[49m\u001b[43m(\u001b[49m\u001b[43mBy\u001b[49m\u001b[38;5;241;43m.\u001b[39;49m\u001b[43mXPATH\u001b[49m\u001b[43m,\u001b[49m\u001b[43m \u001b[49m\u001b[38;5;124;43m'\u001b[39;49m\u001b[38;5;124;43m//*[@id=\u001b[39;49m\u001b[38;5;124;43m\"\u001b[39;49m\u001b[38;5;124;43msantander-form\u001b[39;49m\u001b[38;5;124;43m\"\u001b[39;49m\u001b[38;5;124;43m]/div[3]/div[5]/input\u001b[39;49m\u001b[38;5;124;43m'\u001b[39;49m\u001b[43m)\u001b[49m\u001b[38;5;241;43m.\u001b[39;49m\u001b[43mclick\u001b[49m\u001b[43m(\u001b[49m\u001b[43m)\u001b[49m\n",
      "File \u001b[0;32m~/tech_mage/studying/env-automaciones/lib/python3.12/site-packages/selenium/webdriver/remote/webelement.py:94\u001b[0m, in \u001b[0;36mWebElement.click\u001b[0;34m(self)\u001b[0m\n\u001b[1;32m     92\u001b[0m \u001b[38;5;28;01mdef\u001b[39;00m \u001b[38;5;21mclick\u001b[39m(\u001b[38;5;28mself\u001b[39m) \u001b[38;5;241m-\u001b[39m\u001b[38;5;241m>\u001b[39m \u001b[38;5;28;01mNone\u001b[39;00m:\n\u001b[1;32m     93\u001b[0m \u001b[38;5;250m    \u001b[39m\u001b[38;5;124;03m\"\"\"Clicks the element.\"\"\"\u001b[39;00m\n\u001b[0;32m---> 94\u001b[0m     \u001b[38;5;28;43mself\u001b[39;49m\u001b[38;5;241;43m.\u001b[39;49m\u001b[43m_execute\u001b[49m\u001b[43m(\u001b[49m\u001b[43mCommand\u001b[49m\u001b[38;5;241;43m.\u001b[39;49m\u001b[43mCLICK_ELEMENT\u001b[49m\u001b[43m)\u001b[49m\n",
      "File \u001b[0;32m~/tech_mage/studying/env-automaciones/lib/python3.12/site-packages/selenium/webdriver/remote/webelement.py:395\u001b[0m, in \u001b[0;36mWebElement._execute\u001b[0;34m(self, command, params)\u001b[0m\n\u001b[1;32m    393\u001b[0m     params \u001b[38;5;241m=\u001b[39m {}\n\u001b[1;32m    394\u001b[0m params[\u001b[38;5;124m\"\u001b[39m\u001b[38;5;124mid\u001b[39m\u001b[38;5;124m\"\u001b[39m] \u001b[38;5;241m=\u001b[39m \u001b[38;5;28mself\u001b[39m\u001b[38;5;241m.\u001b[39m_id\n\u001b[0;32m--> 395\u001b[0m \u001b[38;5;28;01mreturn\u001b[39;00m \u001b[38;5;28;43mself\u001b[39;49m\u001b[38;5;241;43m.\u001b[39;49m\u001b[43m_parent\u001b[49m\u001b[38;5;241;43m.\u001b[39;49m\u001b[43mexecute\u001b[49m\u001b[43m(\u001b[49m\u001b[43mcommand\u001b[49m\u001b[43m,\u001b[49m\u001b[43m \u001b[49m\u001b[43mparams\u001b[49m\u001b[43m)\u001b[49m\n",
      "File \u001b[0;32m~/tech_mage/studying/env-automaciones/lib/python3.12/site-packages/selenium/webdriver/remote/webdriver.py:354\u001b[0m, in \u001b[0;36mWebDriver.execute\u001b[0;34m(self, driver_command, params)\u001b[0m\n\u001b[1;32m    352\u001b[0m response \u001b[38;5;241m=\u001b[39m \u001b[38;5;28mself\u001b[39m\u001b[38;5;241m.\u001b[39mcommand_executor\u001b[38;5;241m.\u001b[39mexecute(driver_command, params)\n\u001b[1;32m    353\u001b[0m \u001b[38;5;28;01mif\u001b[39;00m response:\n\u001b[0;32m--> 354\u001b[0m     \u001b[38;5;28;43mself\u001b[39;49m\u001b[38;5;241;43m.\u001b[39;49m\u001b[43merror_handler\u001b[49m\u001b[38;5;241;43m.\u001b[39;49m\u001b[43mcheck_response\u001b[49m\u001b[43m(\u001b[49m\u001b[43mresponse\u001b[49m\u001b[43m)\u001b[49m\n\u001b[1;32m    355\u001b[0m     response[\u001b[38;5;124m\"\u001b[39m\u001b[38;5;124mvalue\u001b[39m\u001b[38;5;124m\"\u001b[39m] \u001b[38;5;241m=\u001b[39m \u001b[38;5;28mself\u001b[39m\u001b[38;5;241m.\u001b[39m_unwrap_value(response\u001b[38;5;241m.\u001b[39mget(\u001b[38;5;124m\"\u001b[39m\u001b[38;5;124mvalue\u001b[39m\u001b[38;5;124m\"\u001b[39m, \u001b[38;5;28;01mNone\u001b[39;00m))\n\u001b[1;32m    356\u001b[0m     \u001b[38;5;28;01mreturn\u001b[39;00m response\n",
      "File \u001b[0;32m~/tech_mage/studying/env-automaciones/lib/python3.12/site-packages/selenium/webdriver/remote/errorhandler.py:229\u001b[0m, in \u001b[0;36mErrorHandler.check_response\u001b[0;34m(self, response)\u001b[0m\n\u001b[1;32m    227\u001b[0m         alert_text \u001b[38;5;241m=\u001b[39m value[\u001b[38;5;124m\"\u001b[39m\u001b[38;5;124malert\u001b[39m\u001b[38;5;124m\"\u001b[39m]\u001b[38;5;241m.\u001b[39mget(\u001b[38;5;124m\"\u001b[39m\u001b[38;5;124mtext\u001b[39m\u001b[38;5;124m\"\u001b[39m)\n\u001b[1;32m    228\u001b[0m     \u001b[38;5;28;01mraise\u001b[39;00m exception_class(message, screen, stacktrace, alert_text)  \u001b[38;5;66;03m# type: ignore[call-arg]  # mypy is not smart enough here\u001b[39;00m\n\u001b[0;32m--> 229\u001b[0m \u001b[38;5;28;01mraise\u001b[39;00m exception_class(message, screen, stacktrace)\n",
      "\u001b[0;31mElementClickInterceptedException\u001b[0m: Message: element click intercepted: Element <input type=\"submit\" name=\"commit\" value=\"Economize já\" class=\"submit-button-s uppercase w-[168px] h-[45px] flex items-center justify-center text-redSant text-center text-[14px] font-extrabold cursor-pointer leading-[17.07px] rounded-lg tracking-[0.0825em] border-2 border-redSant\" data-disable-with=\"Economize já\"> is not clickable at point (430, 763). Other element would receive the click: <button class=\"cookies-btn text-white accept text-sm text-center leading-[17px] font-bold tracking-[0.15em] bg-redSant px-[10px] lg:px-[30px] py-4 lg:py-5 rounded-lg flex items-center justify-center transition ease-in duration-150 hover:brightness-95 uppercase\">...</button>\n  (Session info: chrome=129.0.6668.70)\nStacktrace:\n#0 0x59b43672e10a <unknown>\n#1 0x59b4364145e0 <unknown>\n#2 0x59b43646a866 <unknown>\n#3 0x59b43646878d <unknown>\n#4 0x59b436466237 <unknown>\n#5 0x59b436465646 <unknown>\n#6 0x59b436458a98 <unknown>\n#7 0x59b436488b22 <unknown>\n#8 0x59b436458478 <unknown>\n#9 0x59b436488cee <unknown>\n#10 0x59b4364a7d7d <unknown>\n#11 0x59b4364888c3 <unknown>\n#12 0x59b4364566b3 <unknown>\n#13 0x59b43645768e <unknown>\n#14 0x59b4366f8b0b <unknown>\n#15 0x59b4366fca91 <unknown>\n#16 0x59b4366e5305 <unknown>\n#17 0x59b4366fd612 <unknown>\n#18 0x59b4366ca46f <unknown>\n#19 0x59b43671d008 <unknown>\n#20 0x59b43671d1d3 <unknown>\n#21 0x59b43672cf5c <unknown>\n#22 0x762ac5e9ca94 <unknown>\n#23 0x762ac5f29c3c <unknown>\n"
     ]
    }
   ],
   "source": [
    "open_site(url)\n",
    "\n",
    "click_already_a_client_button()\n",
    "\n",
    "url_before_login_try = driver.current_url\n",
    "\n",
    "try_to_sing_in(user) #input credentials to login\n",
    "\n",
    "fail_to_login = url_before_login_try == driver.current_url\n",
    "\n",
    "if fail_to_login:\n",
    "    sing_up(user)"
   ]
  },
  {
   "cell_type": "code",
   "execution_count": null,
   "metadata": {},
   "outputs": [],
   "source": []
  }
 ],
 "metadata": {
  "kernelspec": {
   "display_name": "Python 3 (ipykernel)",
   "language": "python",
   "name": "python3"
  },
  "language_info": {
   "codemirror_mode": {
    "name": "ipython",
    "version": 3
   },
   "file_extension": ".py",
   "mimetype": "text/x-python",
   "name": "python",
   "nbconvert_exporter": "python",
   "pygments_lexer": "ipython3",
   "version": "3.12.3"
  }
 },
 "nbformat": 4,
 "nbformat_minor": 4
}

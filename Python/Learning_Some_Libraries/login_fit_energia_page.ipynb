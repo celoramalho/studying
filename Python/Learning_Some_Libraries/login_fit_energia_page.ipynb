{
 "cells": [
  {
   "cell_type": "code",
   "execution_count": 263,
   "metadata": {},
   "outputs": [
    {
     "name": "stdout",
     "output_type": "stream",
     "text": [
      "The autoreload extension is already loaded. To reload it, use:\n",
      "  %reload_ext autoreload\n"
     ]
    }
   ],
   "source": [
    "import os, sys, warnings\n",
    "import time\n",
    "import usuario\n",
    "from pathlib import Path\n",
    "warnings.filterwarnings('ignore')\n",
    "%load_ext autoreload\n",
    "%autoreload 2\n",
    "#sys.path.insert(0, os.path.abspath(os.path.join(Path.home(), \"rpa_libs\")))\n",
    "\n",
    "from selenium.webdriver.common.by import By \n",
    "from selenium.webdriver.common.keys import Keys\n",
    "\n",
    "# Nossas libs\n",
    "#import app\n",
    "#from plugins.selenium.selenium import Selenium"
   ]
  },
  {
   "cell_type": "code",
   "execution_count": 264,
   "metadata": {},
   "outputs": [],
   "source": [
    "from selenium import webdriver\n",
    "from webdriver_manager.chrome import ChromeDriverManager\n",
    "from selenium.webdriver.chrome.service import Service\n",
    "\n",
    "#from tbselenium.tbdriver import TorBrowserDriver\n",
    "#with TorBrowserDriver(\"/home/griffo/Downloads/tor-browser/\") as driver:\n",
    "#driver = TorBrowserDriver(\"/home/griffo/Downloads/tor-browser/\")\n",
    "#driver.get('https://www.fitenergia.com.br/')"
   ]
  },
  {
   "cell_type": "code",
   "execution_count": 265,
   "metadata": {},
   "outputs": [],
   "source": [
    "# Inicializa o driver do navegador (Chrome no exemplo)\n",
    "#driver = webdriver.Chrome(executable_path='/caminho/para/chromedriver')\n",
    "driver_path = ChromeDriverManager().install()"
   ]
  },
  {
   "cell_type": "code",
   "execution_count": 266,
   "metadata": {},
   "outputs": [],
   "source": [
    "url = 'https://qa.fitenergia.com.br/'"
   ]
  },
  {
   "cell_type": "code",
   "execution_count": 267,
   "metadata": {},
   "outputs": [],
   "source": [
    "botao_ja_sou_cliente = '/html/body/div[2]/header/nav/ul/li[4]/a'\n",
    "botao_menu_vertical_responsivo = '/html/body/div[2]/button[1]'\n",
    "botao_ja_sou_cliente_responsivo = '//*[@id=\"menu\"]/div/nav/ul/li[4]/a'\n",
    "campo_nome = '//*[@id=\"lead_nome\"]'\n",
    "campo_email = '//*[@id=\"lead_email\"]'\n",
    "campo_numero = '//*[@id=\"lead_telefone\"]'"
   ]
  },
  {
   "cell_type": "code",
   "execution_count": 268,
   "metadata": {},
   "outputs": [],
   "source": [
    "private_data_file = open(\"private_data.txt\", \"r\")\n",
    "user = usuario.User(\"private_data.txt\")"
   ]
  },
  {
   "cell_type": "code",
   "execution_count": 269,
   "metadata": {},
   "outputs": [],
   "source": [
    "#print(driver_path)"
   ]
  },
  {
   "cell_type": "code",
   "execution_count": 270,
   "metadata": {},
   "outputs": [],
   "source": [
    "#driver = webdriver.Chrome(ChromeDriverManager().install()) erro\n",
    "#driver = webdriver.Chrome(service=Service(ChromeDriverManager().install()))\n",
    "\n",
    "# Correct initialization of Chrome WebDriver using Service\n"
   ]
  },
  {
   "cell_type": "code",
   "execution_count": 271,
   "metadata": {},
   "outputs": [],
   "source": [
    "service = Service(ChromeDriverManager().install())\n",
    "driver = webdriver.Chrome(service=service)"
   ]
  },
  {
   "cell_type": "code",
   "execution_count": 272,
   "metadata": {},
   "outputs": [],
   "source": [
    "driver.get(url)\n",
    "time.sleep(3)"
   ]
  },
  {
   "cell_type": "code",
   "execution_count": 273,
   "metadata": {},
   "outputs": [],
   "source": [
    "try:\n",
    "    # Tenta clicar no botão \"Já Sou Cliente\"\n",
    "    driver.find_element(By.XPATH, botao_ja_sou_cliente).click()\n",
    "except:\n",
    "    #Se não achar scrolla a página pra cima e tenta clicar no botão sanduiche para abrir o menu lateral\n",
    "    driver.execute_script(\"window.scrollTo(0, 0)\")\n",
    "    driver.find_element(By.XPATH, botao_menu_vertical_responsivo).click()\n",
    "    time.sleep(1)\n",
    "    driver.find_element(By.XPATH, botao_ja_sou_cliente_responsivo).click()"
   ]
  },
  {
   "cell_type": "code",
   "execution_count": 274,
   "metadata": {},
   "outputs": [],
   "source": [
    "url_before_login_try = driver.current_url"
   ]
  },
  {
   "cell_type": "code",
   "execution_count": 275,
   "metadata": {},
   "outputs": [],
   "source": [
    "#Insert credentials and try to log-in\n",
    "\n",
    "driver.find_element(By.XPATH, '//*[@id=\"user_email\"]').send_keys(user.mail + Keys.ENTER)\n",
    "\n",
    "driver.find_element(By.XPATH, '//*[@id=\"user_password\"]').send_keys(user.password + Keys.ENTER)\n",
    "time.sleep(3)"
   ]
  },
  {
   "cell_type": "code",
   "execution_count": 276,
   "metadata": {},
   "outputs": [],
   "source": [
    "#\n",
    "def sing_up(user):\n",
    "    #Clica em novo usuário\n",
    "    driver.find_element(By.XPATH, '//*[@id=\"new_user\"]/div/div[1]/a').click()\n",
    "\n",
    "    #Minas Gerais\n",
    "    #driver.find_element(By.XPATH, '/html/body/header/section/div[2]/div[1]/div/div[1]/a').click()\n",
    "\n",
    "    #Outros Estados\n",
    "    #driver.find_element(By.XPATH, '/html/body/header/section/div[2]/div[1]/div/div[3]/a').click()\n",
    "\n",
    "\n",
    "    driver.find_element(By.XPATH, campo_nome).send_keys(user.name)\n",
    "    driver.find_element(By.XPATH, campo_email).send_keys(user.mail)\n",
    "    driver.find_element(By.XPATH, campo_numero).send_keys(user.phone)\n",
    "    driver.find_element(By.XPATH, '//*[@id=\"range\"]').click()\n",
    "    driver.find_element(By.XPATH, '//*[@id=\"santander-form\"]/div[3]/div[5]/input').click()"
   ]
  },
  {
   "cell_type": "code",
   "execution_count": 285,
   "metadata": {},
   "outputs": [
    {
     "ename": "SyntaxError",
     "evalue": "invalid syntax (135248855.py, line 7)",
     "output_type": "error",
     "traceback": [
      "\u001b[0;36m  Cell \u001b[0;32mIn[285], line 7\u001b[0;36m\u001b[0m\n\u001b[0;31m    redirecionou_instagram = driver.current_url == 'https://www.instagram.com/fitenergiaoficial/':\u001b[0m\n\u001b[0m                                                                                                 ^\u001b[0m\n\u001b[0;31mSyntaxError\u001b[0m\u001b[0;31m:\u001b[0m invalid syntax\n"
     ]
    }
   ],
   "source": [
    "def botoes_de_redirecionamento_lp_principal():\n",
    "\n",
    "    #Botão Instagram\n",
    "    try:\n",
    "        driver.find_element(By.XPATH, '/html/body/div[2]/div[1]/p/a').click()\n",
    "\n",
    "        redirecionou_instagram = driver.current_url == 'https://www.instagram.com/fitenergiaoficial/'\n",
    "\n",
    "    if not redirecionou_instagram:\n",
    "        #Erro: O botão não direcionou para o instagram.\n",
    "\n",
    "    except\n",
    "        #Erro: Não achou o botão do instagram\n",
    "\n",
    "    "
   ]
  },
  {
   "cell_type": "code",
   "execution_count": 286,
   "metadata": {},
   "outputs": [],
   "source": [
    "botoes_de_redirecionamento_lp_principal()"
   ]
  },
  {
   "cell_type": "code",
   "execution_count": 277,
   "metadata": {},
   "outputs": [],
   "source": [
    "fail_to_login = url_before_login_try == driver.current_url\n",
    "\n",
    "if fail_to_login:\n",
    "    sing_up(user)"
   ]
  },
  {
   "cell_type": "code",
   "execution_count": null,
   "metadata": {},
   "outputs": [],
   "source": []
  }
 ],
 "metadata": {
  "kernelspec": {
   "display_name": "Python 3 (ipykernel)",
   "language": "python",
   "name": "python3"
  },
  "language_info": {
   "codemirror_mode": {
    "name": "ipython",
    "version": 3
   },
   "file_extension": ".py",
   "mimetype": "text/x-python",
   "name": "python",
   "nbconvert_exporter": "python",
   "pygments_lexer": "ipython3",
   "version": "3.12.3"
  }
 },
 "nbformat": 4,
 "nbformat_minor": 4
}

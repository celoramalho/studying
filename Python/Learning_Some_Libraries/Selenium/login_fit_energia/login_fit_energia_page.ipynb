{
 "cells": [
  {
   "cell_type": "code",
   "execution_count": 1,
   "metadata": {},
   "outputs": [
    {
     "ename": "ModuleNotFoundError",
     "evalue": "No module named 'selenium'",
     "output_type": "error",
     "traceback": [
      "\u001b[0;31m---------------------------------------------------------------------------\u001b[0m",
      "\u001b[0;31mModuleNotFoundError\u001b[0m                       Traceback (most recent call last)",
      "Cell \u001b[0;32mIn[1], line 11\u001b[0m\n\u001b[1;32m      8\u001b[0m get_ipython()\u001b[38;5;241m.\u001b[39mrun_line_magic(\u001b[38;5;124m'\u001b[39m\u001b[38;5;124mautoreload\u001b[39m\u001b[38;5;124m'\u001b[39m, \u001b[38;5;124m'\u001b[39m\u001b[38;5;124m2\u001b[39m\u001b[38;5;124m'\u001b[39m)\n\u001b[1;32m      9\u001b[0m \u001b[38;5;66;03m#sys.path.insert(0, os.path.abspath(os.path.join(Path.home(), \"rpa_libs\")))\u001b[39;00m\n\u001b[0;32m---> 11\u001b[0m \u001b[38;5;28;01mfrom\u001b[39;00m \u001b[38;5;21;01mselenium\u001b[39;00m\u001b[38;5;21;01m.\u001b[39;00m\u001b[38;5;21;01mwebdriver\u001b[39;00m\u001b[38;5;21;01m.\u001b[39;00m\u001b[38;5;21;01mcommon\u001b[39;00m\u001b[38;5;21;01m.\u001b[39;00m\u001b[38;5;21;01mby\u001b[39;00m \u001b[38;5;28;01mimport\u001b[39;00m By \n\u001b[1;32m     12\u001b[0m \u001b[38;5;28;01mfrom\u001b[39;00m \u001b[38;5;21;01mselenium\u001b[39;00m\u001b[38;5;21;01m.\u001b[39;00m\u001b[38;5;21;01mwebdriver\u001b[39;00m\u001b[38;5;21;01m.\u001b[39;00m\u001b[38;5;21;01mcommon\u001b[39;00m\u001b[38;5;21;01m.\u001b[39;00m\u001b[38;5;21;01mkeys\u001b[39;00m \u001b[38;5;28;01mimport\u001b[39;00m Keys\n\u001b[1;32m     14\u001b[0m \u001b[38;5;66;03m# Nossas libs\u001b[39;00m\n\u001b[1;32m     15\u001b[0m \u001b[38;5;66;03m#import app\u001b[39;00m\n\u001b[1;32m     16\u001b[0m \u001b[38;5;66;03m#from plugins.selenium.selenium import Selenium\u001b[39;00m\n",
      "\u001b[0;31mModuleNotFoundError\u001b[0m: No module named 'selenium'"
     ]
    }
   ],
   "source": [
    "import os, sys, warnings\n",
    "import time\n",
    "import usuario\n",
    "import yaml\n",
    "from pathlib import Path\n",
    "warnings.filterwarnings('ignore')\n",
    "%load_ext autoreload\n",
    "%autoreload 2\n",
    "#sys.path.insert(0, os.path.abspath(os.path.join(Path.home(), \"rpa_libs\")))\n",
    "\n",
    "from selenium.webdriver.common.by import By \n",
    "from selenium.webdriver.common.keys import Keys\n",
    "\n",
    "# Nossas libs\n",
    "#import app\n",
    "#from plugins.selenium.selenium import Selenium"
   ]
  },
  {
   "cell_type": "code",
   "execution_count": null,
   "metadata": {},
   "outputs": [],
   "source": [
    "from selenium import webdriver\n",
    "from webdriver_manager.chrome import ChromeDriverManager\n",
    "from selenium.webdriver.chrome.service import Service\n",
    "\n",
    "#from tbselenium.tbdriver import TorBrowserDriver\n",
    "#with TorBrowserDriver(\"/home/griffo/Downloads/tor-browser/\") as driver:\n",
    "#driver = TorBrowserDriver(\"/home/griffo/Downloads/tor-browser/\")\n",
    "#driver.get('https://www.fitenergia.com.br/')"
   ]
  },
  {
   "cell_type": "code",
   "execution_count": null,
   "metadata": {},
   "outputs": [],
   "source": [
    "# Inicializa o driver do navegador (Chrome no exemplo)\n",
    "#driver = webdriver.Chrome(executable_path='/caminho/para/chromedriver')\n",
    "driver_path = ChromeDriverManager().install()"
   ]
  },
  {
   "cell_type": "code",
   "execution_count": null,
   "metadata": {},
   "outputs": [],
   "source": [
    "url = 'https://qa.fitenergia.com.br/'"
   ]
  },
  {
   "cell_type": "code",
   "execution_count": null,
   "metadata": {},
   "outputs": [],
   "source": [
    "botao_ja_sou_cliente = '/html/body/div[2]/header/nav/ul/li[4]/a'\n",
    "botao_menu_vertical_responsivo = '/html/body/div[2]/button[1]'\n",
    "botao_ja_sou_cliente_responsivo = '//*[@id=\"menu\"]/div/nav/ul/li[4]/a'\n",
    "campo_nome = '//*[@id=\"lead_nome\"]'\n",
    "campo_email = '//*[@id=\"lead_email\"]'\n",
    "campo_numero = '//*[@id=\"lead_telefone\"]'"
   ]
  },
  {
   "cell_type": "code",
   "execution_count": null,
   "metadata": {},
   "outputs": [],
   "source": [
    "#private_data_file = open(\"private_data.txt\", \"r\")\n",
    "#user = usuario.User(\"private_data.txt\")\n",
    "\n",
    "yaml_file_name = \"test_users_data.yml\"\n",
    "\n",
    "with open(yaml_file_name, 'r') as test_users_file:\n",
    "    data_yml = yaml.full_load(test_users_file)\n",
    "\n",
    "print (user)\n",
    "new_user = data_yml['dados']['new_user']\n",
    "valid_user = data_yml['dados']['valid_user']"
   ]
  },
  {
   "cell_type": "code",
   "execution_count": null,
   "metadata": {},
   "outputs": [],
   "source": [
    "#print(driver_path)"
   ]
  },
  {
   "cell_type": "code",
   "execution_count": null,
   "metadata": {},
   "outputs": [],
   "source": [
    "#driver = webdriver.Chrome(ChromeDriverManager().install()) erro\n",
    "#driver = webdriver.Chrome(service=Service(ChromeDriverManager().install()))\n",
    "\n",
    "# Correct initialization of Chrome WebDriver using Service\n"
   ]
  },
  {
   "cell_type": "code",
   "execution_count": null,
   "metadata": {},
   "outputs": [],
   "source": [
    "service = Service(ChromeDriverManager().install())\n",
    "driver = webdriver.Chrome(service=service)"
   ]
  },
  {
   "cell_type": "code",
   "execution_count": null,
   "metadata": {},
   "outputs": [],
   "source": [
    "#Abre o site\n",
    "def open_site(url):\n",
    "    driver.get(url)\n",
    "    time.sleep(3)"
   ]
  },
  {
   "cell_type": "code",
   "execution_count": null,
   "metadata": {},
   "outputs": [],
   "source": [
    "def let_windows_maximize_or_responsive(window_size):\n",
    "    if window_size == \"maximize\":\n",
    "        driver.maximize_window()\n",
    "\n",
    "    elif window_size == \"responsive\":\n",
    "        driver.set_window_size(1339, 600)\n",
    "        "
   ]
  },
  {
   "cell_type": "code",
   "execution_count": null,
   "metadata": {},
   "outputs": [],
   "source": [
    "def click_already_a_client_button():\n",
    "    current_windows_width = driver.get_window_size().get('width')\n",
    "    \n",
    "    if current_windows_width >= 1340:\n",
    "        # Tenta clicar no botão \"Já Sou Cliente\"\n",
    "        try:\n",
    "            driver.find_element(By.XPATH, botao_ja_sou_cliente).click() #1340\n",
    "        except:\n",
    "            raise RuntimeError(\"Falha ao localizar o elemento botão já sou cliente na janela maximizada\")\n",
    "\n",
    "    else:\n",
    "        #Se não achar scrolla a página pra cima e tenta clicar no botão sanduiche para abrir o menu lateral\n",
    "        driver.execute_script(\"window.scrollTo(0, 0)\")\n",
    "        driver.find_element(By.XPATH, botao_menu_vertical_responsivo).click()\n",
    "        time.sleep(1)\n",
    "        driver.find_element(By.XPATH, botao_ja_sou_cliente_responsivo).click()"
   ]
  },
  {
   "cell_type": "code",
   "execution_count": null,
   "metadata": {},
   "outputs": [],
   "source": [
    "def try_to_sing_in(user):\n",
    "    #Insert credentials and try to login\n",
    "\n",
    "    driver.find_element(By.XPATH, '//*[@id=\"user_email\"]').send_keys(user['email'] + Keys.ENTER)\n",
    "\n",
    "    driver.find_element(By.XPATH, '//*[@id=\"user_password\"]').send_keys(user['password'] + Keys.ENTER)\n",
    "    time.sleep(3)"
   ]
  },
  {
   "cell_type": "code",
   "execution_count": null,
   "metadata": {},
   "outputs": [],
   "source": [
    "def sing_up(user):\n",
    "    #Clica em novo usuário\n",
    "    driver.find_element(By.XPATH, '//*[@id=\"new_user\"]/div/div[1]/a').click()\n",
    "\n",
    "    #Minas Gerais\n",
    "    #driver.find_element(By.XPATH, '/html/body/header/section/div[2]/div[1]/div/div[1]/a').click()\n",
    "\n",
    "    #Outros Estados\n",
    "    #driver.find_element(By.XPATH, '/html/body/header/section/div[2]/div[1]/div/div[3]/a').click()\n",
    "\n",
    "\n",
    "    driver.find_element(By.XPATH, campo_nome).send_keys(user['name'])\n",
    "    driver.find_element(By.XPATH, campo_email).send_keys(user['email'])\n",
    "    driver.find_element(By.XPATH, campo_numero).send_keys(user['phone'])\n",
    "    driver.find_element(By.XPATH, '//*[@id=\"range\"]').click()\n",
    "    driver.find_element(By.XPATH, '//*[@id=\"santander-form\"]/div[3]/div[5]/input').click()"
   ]
  },
  {
   "cell_type": "code",
   "execution_count": null,
   "metadata": {},
   "outputs": [],
   "source": [
    "def test_instagram_top_button():\n",
    "\n",
    "    #Botão Instagram\n",
    "    try:\n",
    "        driver.find_element(By.XPATH, '/html/body/div[2]/div[1]/p/a').click()\n",
    "\n",
    "        redirecionou_instagram = driver.current_url == 'https://www.instagram.com/fitenergiaoficial/'\n",
    "\n",
    "        if not redirecionou_instagram:\n",
    "            pass\n",
    "            #Erro: O botão não direcionou para o instagram.\n",
    "\n",
    "    except Exception as e:\n",
    "        'raise e'\n",
    "        #Erro: Não achou o botão do instagram\n",
    "        pass"
   ]
  },
  {
   "cell_type": "code",
   "execution_count": null,
   "metadata": {},
   "outputs": [],
   "source": [
    "user = valid_user #new_user; valid_user; invalid_user; user_wrong_password\n",
    "\n",
    "open_site(url)\n",
    "\n",
    "window_size = \"responsive\"\n",
    "\n",
    "let_windows_maximize_or_responsive(window_size)\n",
    "\n",
    "click_already_a_client_button()\n",
    "\n",
    "url_before_login_try = driver.current_url\n",
    "\n",
    "try_to_sing_in(valid_user) #input credentials to login\n",
    "\n",
    "fail_to_login = url_before_login_try == driver.current_url\n",
    "\n",
    "if fail_to_login:\n",
    "    sing_up(user)\n",
    "    #forget_password()"
   ]
  }
 ],
 "metadata": {
  "kernelspec": {
   "display_name": "Python 3",
   "language": "python",
   "name": "python3"
  },
  "language_info": {
   "codemirror_mode": {
    "name": "ipython",
    "version": 3
   },
   "file_extension": ".py",
   "mimetype": "text/x-python",
   "name": "python",
   "nbconvert_exporter": "python",
   "pygments_lexer": "ipython3",
   "version": "3.10.12"
  }
 },
 "nbformat": 4,
 "nbformat_minor": 4
}

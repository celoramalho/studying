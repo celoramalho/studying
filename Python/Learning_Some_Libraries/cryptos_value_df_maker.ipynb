{
 "cells": [
  {
   "cell_type": "code",
   "execution_count": 225,
   "metadata": {},
   "outputs": [
    {
     "name": "stdout",
     "output_type": "stream",
     "text": [
      "The autoreload extension is already loaded. To reload it, use:\n",
      "  %reload_ext autoreload\n"
     ]
    }
   ],
   "source": [
    "import os, sys, warnings\n",
    "import concurrent.futures\n",
    "from openpyxl import Workbook\n",
    "from multiprocessing import Pool\n",
    "from pathlib import Path\n",
    "from IPython.display import Image, display\n",
    "warnings.filterwarnings('ignore')\n",
    "%load_ext autoreload\n",
    "%autoreload 2\n",
    "#sys.path.insert(0, os.path.abspath(os.path.join(Path.home(), \"rpa_libs\")))\n",
    "\n",
    "from selenium.webdriver.common.by import By \n",
    "from selenium.webdriver.common.keys import Keys\n",
    "\n",
    "# Nossas libs\n",
    "#import app\n",
    "#from plugins.selenium.selenium import Selenium"
   ]
  },
  {
   "cell_type": "code",
   "execution_count": 226,
   "metadata": {},
   "outputs": [],
   "source": [
    "# Exemplo de uso do arquivo de configuração\n",
    "#app.redefine_config('caminho do seu arquivo .yaml')\n",
    "#teste\n",
    "import pandas as pd"
   ]
  },
  {
   "cell_type": "code",
   "execution_count": 227,
   "metadata": {},
   "outputs": [],
   "source": [
    "from selenium import webdriver\n",
    "from webdriver_manager.chrome import ChromeDriverManager\n",
    "from selenium.webdriver.chrome.service import Service"
   ]
  },
  {
   "cell_type": "code",
   "execution_count": 228,
   "metadata": {},
   "outputs": [],
   "source": [
    "driver = webdriver.Chrome(service=Service(ChromeDriverManager().install().replace(\"THIRD_PARTY_NOTICES.\", \"\")))"
   ]
  },
  {
   "cell_type": "code",
   "execution_count": 229,
   "metadata": {},
   "outputs": [],
   "source": [
    "# Def the website i want to extract the table for\n",
    "url = 'https://www.coingecko.com/pt'\n",
    "driver.get(url)"
   ]
  },
  {
   "cell_type": "code",
   "execution_count": 230,
   "metadata": {},
   "outputs": [],
   "source": [
    "# Picking table from Cripto Coins site and creating a variable for the rows in this table\n",
    "table = driver.find_element(By.XPATH, '/html/body/div[2]/main/div/div[5]/table')\n",
    "rows = table.find_elements(By.XPATH, './/tbody//tr')"
   ]
  },
  {
   "cell_type": "code",
   "execution_count": 231,
   "metadata": {},
   "outputs": [],
   "source": [
    "def maybe_float(s):\n",
    "    try:\n",
    "        return round(float(s.replace(\".\", \"\").replace(\",\", \".\")), 2)\n",
    "    except (ValueError, TypeError):\n",
    "        return s"
   ]
  },
  {
   "cell_type": "code",
   "execution_count": 232,
   "metadata": {},
   "outputs": [],
   "source": [
    "# Creating the function to iterate in rows and cells of the table and appending to the table_data\n",
    "def process_cells(cells):\n",
    "    cell_data = []\n",
    "    for cell in cells:\n",
    "        img_tag = cell.find_elements(By.TAG_NAME, 'img')\n",
    "        data_sort = cell.get_attribute('data-sort')\n",
    "        if img_tag:\n",
    "            # Extract the image URL (src attribute)\n",
    "            img_src = img_tag[0].get_attribute('src')\n",
    "            cell_data.append(img_src)\n",
    "\n",
    "        if '$' in cell.text:\n",
    "            cell_splited = cell.text.split(\" \")\n",
    "            for part_splitted in cell_splited:  \n",
    "                cell_data.append(maybe_float(part_splitted))\n",
    "        elif data_sort:\n",
    "            cell_data.append(round(float(data_sort), 2))\n",
    "        else:\n",
    "            cell_data.append(cell.text)\n",
    "    #table_data.append(cell_data)\n",
    "    return cell_data"
   ]
  },
  {
   "cell_type": "code",
   "execution_count": 233,
   "metadata": {},
   "outputs": [
    {
     "data": {
      "text/plain": [
       "True"
      ]
     },
     "execution_count": 233,
     "metadata": {},
     "output_type": "execute_result"
    }
   ],
   "source": [
    "x =22323.24\n",
    "isinstance(x, float)"
   ]
  },
  {
   "cell_type": "code",
   "execution_count": 234,
   "metadata": {},
   "outputs": [],
   "source": [
    "#with concurrent.futures.ThreadPoolExecutor() as executor:\n",
    "#    results = list(executor.map(process_rows, rows))\n",
    "\n",
    "#with Pool() as pool:\n",
    "#    result = pool.map(process_rows, rows)"
   ]
  },
  {
   "cell_type": "code",
   "execution_count": 235,
   "metadata": {},
   "outputs": [],
   "source": [
    "def process_rows(rows):\n",
    "    table_data = []\n",
    "    for row in rows[:3]:\n",
    "    #for row in rows[:10]:\n",
    "        cells = row.find_elements(By.XPATH, './/td')\n",
    "        cells_data = process_cells(cells)\n",
    "        table_data.append(cells_data)\n",
    "    return table_data"
   ]
  },
  {
   "cell_type": "code",
   "execution_count": 236,
   "metadata": {},
   "outputs": [],
   "source": [
    "table_data = process_rows(rows)"
   ]
  },
  {
   "cell_type": "code",
   "execution_count": 237,
   "metadata": {},
   "outputs": [
    {
     "name": "stdout",
     "output_type": "stream",
     "text": [
      "0.14\n",
      "<class 'float'>\n"
     ]
    },
    {
     "data": {
      "text/plain": [
       "[['',\n",
       "  '1',\n",
       "  'https://assets.coingecko.com/coins/images/1/standard/bitcoin.png?1696501400',\n",
       "  'Bitcoin\\nBTC',\n",
       "  'Comprar',\n",
       "  'US$',\n",
       "  63462.23,\n",
       "  0.14,\n",
       "  -1.27,\n",
       "  5.67,\n",
       "  0.03,\n",
       "  'US$',\n",
       "  24209258294.0,\n",
       "  'US$',\n",
       "  1253944348471.0,\n",
       "  1332980202814.24,\n",
       "  '',\n",
       "  'https://www.coingecko.com/coins/1/sparkline.svg',\n",
       "  ''],\n",
       " ['',\n",
       "  '2',\n",
       "  'https://assets.coingecko.com/coins/images/279/standard/ethereum.png?1696501628',\n",
       "  'Ethereum\\nETH',\n",
       "  'Comprar',\n",
       "  'US$',\n",
       "  2578.27,\n",
       "  -0.11,\n",
       "  -2.85,\n",
       "  11.49,\n",
       "  -3.81,\n",
       "  'US$',\n",
       "  13912352314.0,\n",
       "  'US$',\n",
       "  310461495306.0,\n",
       "  310542861061.97,\n",
       "  '',\n",
       "  'https://www.coingecko.com/coins/279/sparkline.svg',\n",
       "  ''],\n",
       " ['',\n",
       "  '3',\n",
       "  'https://assets.coingecko.com/coins/images/325/standard/Tether.png?1696501661',\n",
       "  'Tether\\nUSDT',\n",
       "  'Comprar',\n",
       "  'US$',\n",
       "  1.0,\n",
       "  -0.1,\n",
       "  -0.03,\n",
       "  -0.17,\n",
       "  0.01,\n",
       "  'US$',\n",
       "  45102913027.0,\n",
       "  'US$',\n",
       "  119211346066.0,\n",
       "  119223661833.52,\n",
       "  '',\n",
       "  'https://www.coingecko.com/coins/325/sparkline.svg',\n",
       "  '']]"
      ]
     },
     "execution_count": 237,
     "metadata": {},
     "output_type": "execute_result"
    }
   ],
   "source": [
    "print(table_data[0][7])\n",
    "print(type(table_data[0][7]))\n",
    "list(table_data)"
   ]
  },
  {
   "cell_type": "code",
   "execution_count": 238,
   "metadata": {},
   "outputs": [],
   "source": [
    "headers = [header.text for header in table.find_elements(By.XPATH, './/thead//th')]\n",
    "headers = [item for item in headers if item]\n",
    "headers[0] = \"IMG Coin\"\n",
    "headers.insert(0, \"ID\")\n",
    "headers.insert(3, \"$\")\n",
    "headers.insert(8, \"30 d\")\n",
    "headers.insert(9, \"$\")\n",
    "headers.insert(11, \"$\")\n",
    "headers.insert(13, \"FDV\")\n",
    "#table_data = [[cell for cell in row if cell.strip()] for row in table_data]"
   ]
  },
  {
   "cell_type": "code",
   "execution_count": 239,
   "metadata": {},
   "outputs": [
    {
     "data": {
      "text/plain": [
       "['ID',\n",
       " 'IMG Coin',\n",
       " 'Moeda',\n",
       " '$',\n",
       " 'Preço',\n",
       " '1 h',\n",
       " '24 h',\n",
       " '7 d',\n",
       " '30 d',\n",
       " '$',\n",
       " 'Volume em 24 h',\n",
       " '$',\n",
       " 'Capitalização de mercado',\n",
       " 'FDV',\n",
       " 'Últimos 7 dias']"
      ]
     },
     "execution_count": 239,
     "metadata": {},
     "output_type": "execute_result"
    }
   ],
   "source": [
    "list(headers)"
   ]
  },
  {
   "cell_type": "code",
   "execution_count": 240,
   "metadata": {},
   "outputs": [],
   "source": [
    "#list(table_data)"
   ]
  },
  {
   "cell_type": "code",
   "execution_count": 241,
   "metadata": {},
   "outputs": [],
   "source": [
    "df = pd.DataFrame(table_data)\n",
    "df_treated_with_link = df.loc[:, (df != '').any(axis=0)] #test drop_na\n",
    "df_treated_with_link = df_treated_with_link.drop(df.columns[4], axis=1)\n"
   ]
  },
  {
   "cell_type": "code",
   "execution_count": 243,
   "metadata": {},
   "outputs": [],
   "source": [
    "df_treated_with_link.style\\\n",
    "    .highlight_max(subset=[5], color='green')\\\n",
    "    .background_gradient(cmap='viridis', subset=[4])\\\n",
    "    .set_properties(**{'border': '1.3px solid black', 'color': 'white'})\n",
    "df_treated_with_link = df_treated_with_link.reset_index(drop=True)"
   ]
  },
  {
   "cell_type": "code",
   "execution_count": 247,
   "metadata": {},
   "outputs": [
    {
     "data": {
      "text/html": [
       "<div>\n",
       "<style scoped>\n",
       "    .dataframe tbody tr th:only-of-type {\n",
       "        vertical-align: middle;\n",
       "    }\n",
       "\n",
       "    .dataframe tbody tr th {\n",
       "        vertical-align: top;\n",
       "    }\n",
       "\n",
       "    .dataframe thead tr th {\n",
       "        text-align: left;\n",
       "    }\n",
       "</style>\n",
       "<table border=\"1\" class=\"dataframe\">\n",
       "  <thead>\n",
       "    <tr>\n",
       "      <th></th>\n",
       "      <th>ID</th>\n",
       "      <th>IMG Coin</th>\n",
       "      <th>Moeda</th>\n",
       "      <th>$</th>\n",
       "      <th>Preço</th>\n",
       "      <th>1 h</th>\n",
       "      <th>24 h</th>\n",
       "      <th>7 d</th>\n",
       "      <th>30 d</th>\n",
       "      <th>$</th>\n",
       "      <th>Volume em 24 h</th>\n",
       "      <th>$</th>\n",
       "      <th>Capitalização de mercado</th>\n",
       "      <th>FDV</th>\n",
       "      <th>Últimos 7 dias</th>\n",
       "    </tr>\n",
       "  </thead>\n",
       "  <tbody>\n",
       "    <tr>\n",
       "      <th>0</th>\n",
       "      <td>1</td>\n",
       "      <td>https://assets.coingecko.com/coins/images/1/st...</td>\n",
       "      <td>Bitcoin\\nBTC</td>\n",
       "      <td>US$</td>\n",
       "      <td>63462.23</td>\n",
       "      <td>0.14</td>\n",
       "      <td>-1.27</td>\n",
       "      <td>5.67</td>\n",
       "      <td>0.03</td>\n",
       "      <td>US$</td>\n",
       "      <td>2.420926e+10</td>\n",
       "      <td>US$</td>\n",
       "      <td>1.253944e+12</td>\n",
       "      <td>1.332980e+12</td>\n",
       "      <td>https://www.coingecko.com/coins/1/sparkline.svg</td>\n",
       "    </tr>\n",
       "    <tr>\n",
       "      <th>1</th>\n",
       "      <td>2</td>\n",
       "      <td>https://assets.coingecko.com/coins/images/279/...</td>\n",
       "      <td>Ethereum\\nETH</td>\n",
       "      <td>US$</td>\n",
       "      <td>2578.27</td>\n",
       "      <td>-0.11</td>\n",
       "      <td>-2.85</td>\n",
       "      <td>11.49</td>\n",
       "      <td>-3.81</td>\n",
       "      <td>US$</td>\n",
       "      <td>1.391235e+10</td>\n",
       "      <td>US$</td>\n",
       "      <td>3.104615e+11</td>\n",
       "      <td>3.105429e+11</td>\n",
       "      <td>https://www.coingecko.com/coins/279/sparkline.svg</td>\n",
       "    </tr>\n",
       "    <tr>\n",
       "      <th>2</th>\n",
       "      <td>3</td>\n",
       "      <td>https://assets.coingecko.com/coins/images/325/...</td>\n",
       "      <td>Tether\\nUSDT</td>\n",
       "      <td>US$</td>\n",
       "      <td>1.00</td>\n",
       "      <td>-0.10</td>\n",
       "      <td>-0.03</td>\n",
       "      <td>-0.17</td>\n",
       "      <td>0.01</td>\n",
       "      <td>US$</td>\n",
       "      <td>4.510291e+10</td>\n",
       "      <td>US$</td>\n",
       "      <td>1.192113e+11</td>\n",
       "      <td>1.192237e+11</td>\n",
       "      <td>https://www.coingecko.com/coins/325/sparkline.svg</td>\n",
       "    </tr>\n",
       "  </tbody>\n",
       "</table>\n",
       "</div>"
      ],
      "text/plain": [
       "  ID                                           IMG Coin          Moeda    $  \\\n",
       "0  1  https://assets.coingecko.com/coins/images/1/st...   Bitcoin\\nBTC  US$   \n",
       "1  2  https://assets.coingecko.com/coins/images/279/...  Ethereum\\nETH  US$   \n",
       "2  3  https://assets.coingecko.com/coins/images/325/...   Tether\\nUSDT  US$   \n",
       "\n",
       "      Preço   1 h  24 h    7 d  30 d    $ Volume em 24 h    $  \\\n",
       "0  63462.23  0.14 -1.27   5.67  0.03  US$   2.420926e+10  US$   \n",
       "1   2578.27 -0.11 -2.85  11.49 -3.81  US$   1.391235e+10  US$   \n",
       "2      1.00 -0.10 -0.03  -0.17  0.01  US$   4.510291e+10  US$   \n",
       "\n",
       "  Capitalização de mercado           FDV  \\\n",
       "0             1.253944e+12  1.332980e+12   \n",
       "1             3.104615e+11  3.105429e+11   \n",
       "2             1.192113e+11  1.192237e+11   \n",
       "\n",
       "                                      Últimos 7 dias  \n",
       "0    https://www.coingecko.com/coins/1/sparkline.svg  \n",
       "1  https://www.coingecko.com/coins/279/sparkline.svg  \n",
       "2  https://www.coingecko.com/coins/325/sparkline.svg  "
      ]
     },
     "execution_count": 247,
     "metadata": {},
     "output_type": "execute_result"
    }
   ],
   "source": [
    "df_treated_with_link.columns = [headers]\n",
    "df_treated_with_link"
   ]
  },
  {
   "cell_type": "code",
   "execution_count": 248,
   "metadata": {},
   "outputs": [],
   "source": [
    "df_treated = df_treated_with_link.drop(columns=['IMG Coin', 'Últimos 7 dias'])"
   ]
  },
  {
   "cell_type": "code",
   "execution_count": null,
   "metadata": {},
   "outputs": [],
   "source": [
    "df_treated"
   ]
  },
  {
   "cell_type": "code",
   "execution_count": 246,
   "metadata": {},
   "outputs": [],
   "source": [
    "df_treated.to_excel(\"file_test_df_cripto_coin.xlsx\", index=False)"
   ]
  }
 ],
 "metadata": {
  "kernelspec": {
   "display_name": "env-automaciones2",
   "language": "python",
   "name": "python3"
  },
  "language_info": {
   "codemirror_mode": {
    "name": "ipython",
    "version": 3
   },
   "file_extension": ".py",
   "mimetype": "text/x-python",
   "name": "python",
   "nbconvert_exporter": "python",
   "pygments_lexer": "ipython3",
   "version": "3.12.3"
  }
 },
 "nbformat": 4,
 "nbformat_minor": 2
}

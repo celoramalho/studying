{
 "cells": [
  {
   "cell_type": "code",
   "execution_count": 36,
   "metadata": {},
   "outputs": [
    {
     "name": "stdout",
     "output_type": "stream",
     "text": [
      "The autoreload extension is already loaded. To reload it, use:\n",
      "  %reload_ext autoreload\n"
     ]
    }
   ],
   "source": [
    "import os, sys, warnings\n",
    "import concurrent.futures\n",
    "from openpyxl import Workbook\n",
    "from multiprocessing import Pool\n",
    "from pathlib import Path\n",
    "from IPython.display import Image, display\n",
    "\n",
    "warnings.filterwarnings('ignore')\n",
    "%load_ext autoreload\n",
    "%autoreload 2\n",
    "\n",
    "from selenium.webdriver.common.by import By \n",
    "from selenium.webdriver.common.keys import Keys\n"
   ]
  },
  {
   "cell_type": "code",
   "execution_count": 37,
   "metadata": {},
   "outputs": [],
   "source": [
    "import matplotlib.pyplot as plt\n",
    "from matplotlib import colors\n",
    "\n",
    "import pandas as pd"
   ]
  },
  {
   "cell_type": "code",
   "execution_count": 38,
   "metadata": {},
   "outputs": [],
   "source": [
    "from selenium import webdriver\n",
    "from webdriver_manager.chrome import ChromeDriverManager\n",
    "from selenium.webdriver.chrome.service import Service"
   ]
  },
  {
   "cell_type": "code",
   "execution_count": 39,
   "metadata": {},
   "outputs": [],
   "source": [
    "driver = webdriver.Chrome(service=Service(ChromeDriverManager().install().replace(\"THIRD_PARTY_NOTICES.\", \"\")))"
   ]
  },
  {
   "cell_type": "code",
   "execution_count": 40,
   "metadata": {},
   "outputs": [],
   "source": [
    "# Def the website i want to extract the table for\n",
    "url = 'https://www.coingecko.com/pt'\n",
    "driver.get(url)"
   ]
  },
  {
   "cell_type": "code",
   "execution_count": 41,
   "metadata": {},
   "outputs": [],
   "source": [
    "# Picking table from Crypto Coins site and creating a variable for the rows in this table\n",
    "table = driver.find_element(By.XPATH, '/html/body/div[2]/main/div/div[5]/table')\n",
    "rows = table.find_elements(By.XPATH, './/tbody//tr')"
   ]
  },
  {
   "cell_type": "code",
   "execution_count": 42,
   "metadata": {},
   "outputs": [],
   "source": [
    "def maybe_float(s):\n",
    "    try:\n",
    "        return round(float(s.replace(\".\", \"\").replace(\",\", \".\")), 2)\n",
    "    except (ValueError, TypeError):\n",
    "        return s"
   ]
  },
  {
   "cell_type": "code",
   "execution_count": 43,
   "metadata": {},
   "outputs": [],
   "source": [
    "# Creating the function to iterate in rows and cells of the table and appending to the table_data\n",
    "def process_cells(cells):\n",
    "    cell_data = []\n",
    "    for cell in cells:\n",
    "        img_tag = cell.find_elements(By.TAG_NAME, 'img')\n",
    "        data_sort = cell.get_attribute('data-sort')\n",
    "        if img_tag:\n",
    "            # Extract the image URL (src attribute)\n",
    "            img_src = img_tag[0].get_attribute('src')\n",
    "            cell_data.append(img_src)\n",
    "\n",
    "        if '$' in cell.text:\n",
    "            cell_splited = cell.text.split(\" \")\n",
    "            for part_splitted in cell_splited:  \n",
    "                cell_data.append(maybe_float(part_splitted))\n",
    "\n",
    "        elif data_sort:\n",
    "            cell_data.append(round(float(data_sort), 2))\n",
    "            \n",
    "        else:\n",
    "            cell_data.append(cell.text)\n",
    "    return cell_data"
   ]
  },
  {
   "cell_type": "code",
   "execution_count": 44,
   "metadata": {},
   "outputs": [],
   "source": [
    "def process_rows(rows):\n",
    "    table_data = []\n",
    "    for row in rows:\n",
    "        cells = row.find_elements(By.XPATH, './/td')\n",
    "        cells_data = process_cells(cells)\n",
    "        table_data.append(cells_data)\n",
    "    return table_data"
   ]
  },
  {
   "cell_type": "code",
   "execution_count": 45,
   "metadata": {},
   "outputs": [],
   "source": [
    "table_data = process_rows(rows)"
   ]
  },
  {
   "cell_type": "code",
   "execution_count": 46,
   "metadata": {},
   "outputs": [],
   "source": [
    "headers = [header.text for header in table.find_elements(By.XPATH, './/thead//th')]\n",
    "headers = [item for item in headers if item]\n",
    "\n",
    "headers[0] = \"IMG Coin\"\n",
    "insertions = [(0, \"ID\"), (3, \"$\"), (8, \"30 d\"), (9, \"$\"), (11, \"$\"), (13, \"FDV\")\n",
    "]\n",
    "for index, value in insertions:\n",
    "    headers.insert(index, value)"
   ]
  },
  {
   "cell_type": "code",
   "execution_count": null,
   "metadata": {},
   "outputs": [],
   "source": [
    "df = pd.DataFrame(table_data)\n",
    "df_treated_with_link = df.loc[:, (df != '').any(axis=0)] #test drop_na\n",
    "df_treated_with_link = df_treated_with_link.drop(df.columns[4], axis=1)\n",
    "df_treated_with_link = df_treated_with_link.reset_index(drop=True)\n",
    "df_treated_with_link\n"
   ]
  },
  {
   "cell_type": "code",
   "execution_count": null,
   "metadata": {},
   "outputs": [],
   "source": [
    "df_treated_with_link.style\\\n",
    "    .set_properties(**{'border': '1.3px solid black', 'color': 'white'})\\\n",
    "    .background_gradient(subset=[6])\n",
    "    #\n"
   ]
  },
  {
   "cell_type": "code",
   "execution_count": 49,
   "metadata": {},
   "outputs": [],
   "source": [
    "df_treated_with_link.columns = [headers]\n",
    "#df_treated_with_link"
   ]
  },
  {
   "cell_type": "code",
   "execution_count": 50,
   "metadata": {},
   "outputs": [],
   "source": [
    "df_treated = df_treated_with_link.drop(columns=['IMG Coin', 'Últimos 7 dias'])"
   ]
  },
  {
   "cell_type": "code",
   "execution_count": null,
   "metadata": {},
   "outputs": [],
   "source": [
    "df_treated"
   ]
  },
  {
   "cell_type": "code",
   "execution_count": 52,
   "metadata": {},
   "outputs": [],
   "source": [
    "df_treated.to_excel(\"file_test_df_cripto_coin.xlsx\", index=False)"
   ]
  }
 ],
 "metadata": {
  "kernelspec": {
   "display_name": "env-automaciones2",
   "language": "python",
   "name": "python3"
  },
  "language_info": {
   "codemirror_mode": {
    "name": "ipython",
    "version": 3
   },
   "file_extension": ".py",
   "mimetype": "text/x-python",
   "name": "python",
   "nbconvert_exporter": "python",
   "pygments_lexer": "ipython3",
   "version": "3.12.3"
  }
 },
 "nbformat": 4,
 "nbformat_minor": 2
}
